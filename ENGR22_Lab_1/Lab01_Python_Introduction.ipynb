{
 "cells": [
  {
   "cell_type": "markdown",
   "metadata": {},
   "source": [
    "# ENGR222 Lab 1 - A brief introduction to Python3, matplotlib and numpy\n",
    "\n",
    "**Brendan Harding, Victoria University of Wellington**\n",
    "\n",
    "**Last updated: 26th Feb 2020**\n",
    "\n",
    "\n",
    "## Introduction\n",
    "\n",
    "Welcome to your first ENGR222 computer lab.\n",
    "The aim of this lab is to introduce you to Python3 and some of the modules you will use throughout this course.\n",
    "Python is an extremely flexible and extensible programming language that can be used for almost any concievable purpose.\n",
    "The focus of these lab sessions will be using Python for scientific computing, it is not intended to be a comprehensive guide to programming in Python.\n",
    "There are three modules that will be used throughout the lab sessions, numpy, scipy and matplotlib.\n",
    "Additionally, you are currently reading this within a jupyter notebook via the jupyter module.\n",
    "Jupyter is a great tool that will allow us to program with python in an interactive and dynamic manner.\n",
    "\n",
    "Note: this particular cell is a *markdown* cell, as opposed to a code cell, which allows me to write nicely formatted text. It is very useful for me to use when writing up these tutorial notes but it is not something that you, the student, need to be familiar with. \n",
    "You will use and interact with *code* cells, which are the default cell type within jupyter notebooks."
   ]
  },
  {
   "cell_type": "markdown",
   "metadata": {},
   "source": [
    "## Using Python as a calculator\n",
    "\n",
    "At the most basic level, you can use Python as a calculator.\n",
    "For example, in the following cell, try some basic calculations like `1+2`, `3.14-2.71`, `5*9`, `2.3*5.1`, `21.3/4.7` etc.\n",
    "Observe that parentheses/brackets can be used as you normally would with a calculator e.g. `(6.4+9.7)/(4.3-1.7)`.\n",
    "Simply type what you want to calculate, then hold **shift** and press **return** (or **enter**) to execute that cell."
   ]
  },
  {
   "cell_type": "code",
   "execution_count": 2,
   "metadata": {},
   "outputs": [
    {
     "data": {
      "text/plain": [
       "83.85"
      ]
     },
     "execution_count": 2,
     "metadata": {},
     "output_type": "execute_result"
    }
   ],
   "source": [
    "(4.7+8.2)*6.5"
   ]
  },
  {
   "cell_type": "markdown",
   "metadata": {},
   "source": [
    "You can also raise numbers to integer powers, or even perform more general exponentiation, by using `**` (i.e. `**` is the Python version of `^` on a traditional calculator, in Python `^` is reserved for a different operation, the logical xor operation specifically).\n",
    "Try calculating say `2**5`, `3.14**2`, `10**0.5`, etc."
   ]
  },
  {
   "cell_type": "code",
   "execution_count": 4,
   "metadata": {},
   "outputs": [
    {
     "data": {
      "text/plain": [
       "3.1622776601683795"
      ]
     },
     "execution_count": 4,
     "metadata": {},
     "output_type": "execute_result"
    }
   ],
   "source": [
    "10**0.5"
   ]
  },
  {
   "cell_type": "markdown",
   "metadata": {},
   "source": [
    "Notice if you have two lines of calculations in a cell only the result of the last line is displayed.\n",
    "If the results of multiple calculations are to be displayed in one cell then we can use the standard `print` function.\n",
    "Compare the following two cells."
   ]
  },
  {
   "cell_type": "code",
   "execution_count": 5,
   "metadata": {},
   "outputs": [
    {
     "data": {
      "text/plain": [
       "7"
      ]
     },
     "execution_count": 5,
     "metadata": {},
     "output_type": "execute_result"
    }
   ],
   "source": [
    "1+2\n",
    "3+4"
   ]
  },
  {
   "cell_type": "code",
   "execution_count": 6,
   "metadata": {},
   "outputs": [
    {
     "name": "stdout",
     "output_type": "stream",
     "text": [
      "3\n",
      "7\n"
     ]
    }
   ],
   "source": [
    "print(1+2)\n",
    "print(3+4)"
   ]
  },
  {
   "cell_type": "markdown",
   "metadata": {},
   "source": [
    "The `print` function is quite flexible and can be used to display multiple results, and can print *strings* as well.\n",
    "A *string* is essentially just text data that is enclosed within either single or double quotes.\n",
    "Here is a couple of examples.\n",
    "Play around and come up with some more."
   ]
  },
  {
   "cell_type": "code",
   "execution_count": 7,
   "metadata": {},
   "outputs": [
    {
     "name": "stdout",
     "output_type": "stream",
     "text": [
      "3 7\n",
      "The result of 1+2 is 3\n"
     ]
    }
   ],
   "source": [
    "print(1+2,3+4)\n",
    "print('The result of 1+2 is',1+2)"
   ]
  },
  {
   "cell_type": "markdown",
   "metadata": {},
   "source": [
    "At this stage you probably want to ask: how do you obtain value of special numbers like $\\pi$ or $e$, or want to use a special function like $\\sin(x),\\cos(x),\\tan(x),\\log(x),e^{x}$ etc?\n",
    "\n",
    "These are all contained in the standard **math** module which is included in python by default.\n",
    "To use these you first need to import the math module using `import math` and you can then calculate something like `math.sin(math.pi/3.0)`. Try this out in the cell below."
   ]
  },
  {
   "cell_type": "code",
   "execution_count": 26,
   "metadata": {},
   "outputs": [
    {
     "data": {
      "text/plain": [
       "0.8660254037844386"
      ]
     },
     "execution_count": 26,
     "metadata": {},
     "output_type": "execute_result"
    }
   ],
   "source": [
    "import math\n",
    "math.sin(math.pi/3.0)"
   ]
  },
  {
   "cell_type": "markdown",
   "metadata": {},
   "source": [
    "Note that importing a module only needs to be performed once in a session. In the cell below note that you can continue to use math routines without importing again (provided you have executed the cell above containing `import math`, Python can only know about previous cells if they have been executed in the current session). Try some different calculations.\n",
    "\n",
    "*Hint: if you want to know what functions are available in the math module they are documented [here](https://docs.python.org/3/library/math.html).*"
   ]
  },
  {
   "cell_type": "code",
   "execution_count": 9,
   "metadata": {},
   "outputs": [
    {
     "data": {
      "text/plain": [
       "3.0"
      ]
     },
     "execution_count": 9,
     "metadata": {},
     "output_type": "execute_result"
    }
   ],
   "source": [
    "math.log(math.exp(3.0))"
   ]
  },
  {
   "cell_type": "markdown",
   "metadata": {},
   "source": [
    "Typically, the very first cell of a notebook should import all of the common modules you will use throughout and is something you execute first thing when you open (or restart) a notebook.\n",
    "\n",
    "Additionally, writing `math.` every time we want a function from the math module is a pain. \n",
    "There are several alternative ways to load/use modules.\n",
    "One option is to import the module and assign it an alias, for example `import math as m` where here **m** becomes and alias to the math module so that we can call functions within the math module using `m.sin(3.0)` for example, thereby saving us from typing three character!\n",
    "Specific functions can be imported using for example `from math import sin` which would allow us to just call `sin(3.0)` directly rather than `math.sin(3.0)`.\n",
    "If we want lots of functions we could import them as `from math import sin,cos,tan` and so on, but this too can become tediuous.\n",
    "If we want to import everything from the math module we can simply write `from math import *` and then any function in the math module can be called directly.\n",
    "\n",
    "The last option is very convenient, but can also be problematic if you load several modules in this way which contain functions which have the same name.\n",
    "I won't discuss this further but it is something to keep in mind.\n",
    "The following cells illustrate this method of module loading."
   ]
  },
  {
   "cell_type": "code",
   "execution_count": 39,
   "metadata": {},
   "outputs": [],
   "source": [
    "from math import *"
   ]
  },
  {
   "cell_type": "code",
   "execution_count": 11,
   "metadata": {},
   "outputs": [
    {
     "data": {
      "text/plain": [
       "3.141592653589793"
      ]
     },
     "execution_count": 11,
     "metadata": {},
     "output_type": "execute_result"
    }
   ],
   "source": [
    "log(exp(pi))"
   ]
  },
  {
   "cell_type": "markdown",
   "metadata": {},
   "source": [
    "Note: Most of the functions in the `math` module are also available in the `numpy` module.\n",
    "Throughout this course the `numpy` module will be preferred, for reasons that will be discussed later."
   ]
  },
  {
   "cell_type": "markdown",
   "metadata": {},
   "source": [
    "## Commenting your code\n",
    "\n",
    "Adding comments to code is a very useful way document, or add notes to, your code.\n",
    "It is good practice to add comments to explain anything that may be unclear.\n",
    "In Python, comments can be placed at the end of a line by adding a hashtag `#`.\n",
    "Anthing that follows the hashtag on a single line is not executed.\n",
    "Jupyter will also display it in gray to distinguish it from the code.\n",
    "The following cell shows an example, albeit with some relatively long comments."
   ]
  },
  {
   "cell_type": "code",
   "execution_count": 12,
   "metadata": {},
   "outputs": [
    {
     "name": "stdout",
     "output_type": "stream",
     "text": [
      "7\n"
     ]
    },
    {
     "data": {
      "text/plain": [
       "11"
      ]
     },
     "execution_count": 12,
     "metadata": {},
     "output_type": "execute_result"
    }
   ],
   "source": [
    "1+2 # This result will not be printed as it is not the last line of the cell\n",
    "print(3+4) # This result will be printed as it is wrapped in the print() function\n",
    "5+6 # This result will be printed as it is the last line of the cell\n",
    "# Comment on a line of it's own\n",
    "# and extending onto a second line"
   ]
  },
  {
   "cell_type": "markdown",
   "metadata": {},
   "source": [
    "## Assiging and using variables\n",
    "\n",
    "Numbers can be assigned to variables (in fact any object you might deal with in Python can be assigned to a variable).\n",
    "Variable names can be almost any string of letters and numbers, and may also contain underscores. \n",
    "There are exceptions where certain words are reserved for the Python programming language itself, some you will see later. \n",
    "Usefully, such words are typically displayed in another colour within jupyter so you can see they already have a meaning. \n",
    "Another exception is a variable cannot begin with a number.\n",
    "Some examples of assigning numbers to variables and using them in calculations is provided in the next cell.\n",
    "You should experiment further with this."
   ]
  },
  {
   "cell_type": "code",
   "execution_count": 40,
   "metadata": {},
   "outputs": [
    {
     "name": "stdout",
     "output_type": "stream",
     "text": [
      "0.1 6.283185307179586 6.383185307179586 0.6283185307179586\n",
      "0.2\n"
     ]
    }
   ],
   "source": [
    "a = 0.1\n",
    "b = 2*pi\n",
    "c = a+b # assign c to be the sum of a and b\n",
    "ab = a*b # assign to ab the product of a and b\n",
    "print(a,b,c,ab) # print all four variables defined above\n",
    "a = 0.2 # replaces the definition of a\n",
    "print(a) # see\n",
    "long_variable_name_with_underscores = -4.7\n",
    "AnotherLongVariableName = 2.1\n",
    "x2 = log(5.0) # variable name with a number\n",
    "x3y = 9.1 # another variable name with a number"
   ]
  },
  {
   "cell_type": "markdown",
   "metadata": {},
   "source": [
    "Beware that definitions of imported functions or variables get overwritten if you use them as a variable name.\n",
    "See the following examples."
   ]
  },
  {
   "cell_type": "code",
   "execution_count": 41,
   "metadata": {},
   "outputs": [
    {
     "name": "stdout",
     "output_type": "stream",
     "text": [
      "3.14\n"
     ]
    },
    {
     "ename": "TypeError",
     "evalue": "'float' object is not callable",
     "output_type": "error",
     "traceback": [
      "\u001b[0;31m---------------------------------------------------------------------------\u001b[0m",
      "\u001b[0;31mTypeError\u001b[0m                                 Traceback (most recent call last)",
      "\u001b[0;32m<ipython-input-41-ca60d46c5d8e>\u001b[0m in \u001b[0;36m<module>\u001b[0;34m\u001b[0m\n\u001b[1;32m      2\u001b[0m \u001b[0mprint\u001b[0m\u001b[0;34m(\u001b[0m\u001b[0mpi\u001b[0m\u001b[0;34m)\u001b[0m \u001b[0;31m# see\u001b[0m\u001b[0;34m\u001b[0m\u001b[0;34m\u001b[0m\u001b[0m\n\u001b[1;32m      3\u001b[0m \u001b[0mcos\u001b[0m \u001b[0;34m=\u001b[0m \u001b[0;36m0.5\u001b[0m \u001b[0;31m# not a good choice of variable name, will replace cos function\u001b[0m\u001b[0;34m\u001b[0m\u001b[0;34m\u001b[0m\u001b[0m\n\u001b[0;32m----> 4\u001b[0;31m \u001b[0mcos\u001b[0m\u001b[0;34m(\u001b[0m\u001b[0;36m2.0\u001b[0m\u001b[0;34m)\u001b[0m \u001b[0;31m# this now results in an error because cos is now a number (0.5) and not a function\u001b[0m\u001b[0;34m\u001b[0m\u001b[0;34m\u001b[0m\u001b[0m\n\u001b[0m",
      "\u001b[0;31mTypeError\u001b[0m: 'float' object is not callable"
     ]
    }
   ],
   "source": [
    "pi = 3.14 # Beware! Replaces pi variable obtained from 'from math import *'\n",
    "print(pi) # see\n",
    "cos = 0.5 # Beware! Replaces cos function obtained from 'from math import *'\n",
    "cos(2.0) # Raises a TypeError because cos is now a number (0.5) and not a function"
   ]
  },
  {
   "cell_type": "markdown",
   "metadata": {},
   "source": [
    "When a variable is just a number, you do some arithmetic on it *in-place* using `-=,+=,*=,/=`.\n",
    "Play around with the following examples."
   ]
  },
  {
   "cell_type": "code",
   "execution_count": 78,
   "metadata": {},
   "outputs": [
    {
     "name": "stdout",
     "output_type": "stream",
     "text": [
      "1.0\n",
      "2.5\n",
      "20.0\n",
      "4.0\n",
      "-2.0\n"
     ]
    }
   ],
   "source": [
    "a = 1.0\n",
    "print(a)\n",
    "a *= 2.5 # multiply a by 2.5\n",
    "print(a)\n",
    "a += 17.5 # add 17.5 to a\n",
    "print(a)\n",
    "a /= 5.0 # divide a by 5\n",
    "print(a)\n",
    "a -= 6.0 # subtract 6 from a\n",
    "print(a)"
   ]
  },
  {
   "cell_type": "markdown",
   "metadata": {},
   "source": [
    "## Numbers types in Python\n",
    "\n",
    "Most computations performed in Python will use (double precision) floating point numbers.\n",
    "These numbers are a *finite* subset of the *rational* numbers.\n",
    "\n",
    "It is important to realise that floating point numbers have a limited accuracy. \n",
    "Moreover, as you continue to iterate computations on numbers with limited accuracy it is typical for the errors to accumulate and grow over time.\n",
    "There are whole fields of study devoted to understanding this and designing numerical algorithms which prevents this error from blowing up so large that the results of computations are meaningless (this is referred to as numerical stability).\n",
    "\n",
    "For now, it is enough to note that a (double precision) floating point number is only good up to about 15 to 16 decimal digits, and typically Python will print results with this may digits unless the result can be exactly represented with less digits.\n",
    "\n",
    "Floating point numbers are internally represented using a binary format.\n",
    "To represent a number in floating point format it is first decomposed (exactly) as \n",
    "$$\n",
    "(\\text{floating point number}) = (\\text{sign})\\times 2^{(\\text{exponent})} \\times (\\text{mantissa})\n",
    "$$\n",
    "where the exponent and sign are (uniquely) chosen so that the mantissa lies in the interval $[1,2)$.\n",
    "A double precision floating point number has 64 bits (binary digits) to store this representation.\n",
    "One bit is used to denote the sign of the number (i.e. whether it is positive with sign$=+1$, or negative with sign$=-1$). \n",
    "Some more bits are used to represent the exponent (an integer expressed in base 2). \n",
    "Remaining bits *approximate* the mantissa (in a binary representation).\n",
    "\n",
    "You don't really need to know the specific details beyond this for this course, but there are some consequences of this fact that may surprise you.\n",
    "For example, $0.1$ may seem like a nice simple number that a computer should be able to represent exactly.\n",
    "However, an exact floating point representation of $0.1$ has an infinite, but repeating pattern, of binary digits in the mantissa.\n",
    "The computer must round or truncate this to fit within the finite number of bits available.\n",
    "Therefore, the floating point representation of $0.1$ on a computer is merely an approximation.\n",
    "The following cell illustrates that the floating point representation of $0.1$ is not exactly $0.1$.\n",
    "Try entering some other numbers."
   ]
  },
  {
   "cell_type": "code",
   "execution_count": 34,
   "metadata": {},
   "outputs": [
    {
     "name": "stdout",
     "output_type": "stream",
     "text": [
      "0.1\n",
      "0.30000000000000004\n",
      "0.100000000000000005551115\n",
      "0.300000000000000044408921\n"
     ]
    }
   ],
   "source": [
    "print(0.1) # Python will (cleverly) print 0.1 as written\n",
    "print(3*0.1) # We expect 0.3, but note there is a small error at the end!\n",
    "print('{:.24f}'.format(0.1)) # This line asks Python to print 0.1 to 24 digits, don't worry about the details\n",
    "print('{:.24f}'.format(0.1*3)) # The error in 3*0.1 is greater than 3 times the error of 0.1"
   ]
  },
  {
   "cell_type": "markdown",
   "metadata": {},
   "source": [
    "The other type of number that you will use is an integer, and these generally work as you would expect.\n",
    "For example, addition, multiplication, and integer powers of integers will result in another integer.\n",
    "Once you start add a floating point number to a calculation the result will generally be converted to this type automatically.\n",
    "\n",
    "You can force a conversion between integer and floating point types using `int()` and `float()`.\n",
    "In the case of going from a floating point number to an integer the number will be truncated towards zero (which means rounded down if positive and rounded up if negative."
   ]
  },
  {
   "cell_type": "code",
   "execution_count": 64,
   "metadata": {},
   "outputs": [
    {
     "name": "stdout",
     "output_type": "stream",
     "text": [
      "4\n",
      "4\n",
      "-4\n",
      "-4\n",
      "23.0\n",
      "2.718281828459045\n"
     ]
    }
   ],
   "source": [
    "print(int(4.2)) # rounded down\n",
    "print(int(4.8)) # still rounded down\n",
    "print(int(-4.2)) # rounded up\n",
    "print(int(-4.8)) # still rounded up\n",
    "print(float(23)) # simply adds '.0'\n",
    "print(float(e)) # already a float"
   ]
  },
  {
   "cell_type": "markdown",
   "metadata": {},
   "source": [
    "Another basic type is called a *boolean*, something which is either `True` or `False`.\n",
    "For example, you can compare the two numbers using one of `<,>,<=,>=,==,!=` (here `!=` means not equal) and the result will be given as a boolean with value `True` or `False`.\n",
    "Whilst not strictly a number type they can be used in calculation in which case `True` is treated as the number `1` and `False` is treated as the number `0`."
   ]
  },
  {
   "cell_type": "code",
   "execution_count": 71,
   "metadata": {},
   "outputs": [
    {
     "name": "stdout",
     "output_type": "stream",
     "text": [
      "True\n",
      "False\n",
      "True\n",
      "True\n",
      "2\n"
     ]
    }
   ],
   "source": [
    "print(3<10)\n",
    "print(pi<e)\n",
    "print(pi!=e)\n",
    "print(3==3.0000)\n",
    "print(2*True+False)"
   ]
  },
  {
   "cell_type": "markdown",
   "metadata": {},
   "source": [
    "Note that generally one should avod comparing floating point numbers using `==` or `!=` as the result will often not be what you expect due to rounding errors."
   ]
  },
  {
   "cell_type": "code",
   "execution_count": 73,
   "metadata": {},
   "outputs": [
    {
     "name": "stdout",
     "output_type": "stream",
     "text": [
      "False\n",
      "True\n"
     ]
    }
   ],
   "source": [
    "print(4.2==4.200000000000001)  # False as expected\n",
    "print(4.2==4.2000000000000001) # True due to rounding of the latter"
   ]
  },
  {
   "cell_type": "markdown",
   "metadata": {},
   "source": [
    "#### Exercise\n",
    "\n",
    " - Define a few variables to be equal to different numbers. \n",
    " - Play around doing various calculations of these numbers via their variables.\n",
    " - Try a few different comparisons between different numbers."
   ]
  },
  {
   "cell_type": "code",
   "execution_count": 3,
   "metadata": {},
   "outputs": [],
   "source": [
    "import math\n",
    "\n",
    "a = 1\n",
    "b = 2\n",
    "c = 3"
   ]
  },
  {
   "cell_type": "code",
   "execution_count": 6,
   "metadata": {},
   "outputs": [
    {
     "name": "stdout",
     "output_type": "stream",
     "text": [
      "0.5347544905894419\n"
     ]
    }
   ],
   "source": [
    "print(math.cos(a)*2-c*math.sin(c-a))"
   ]
  },
  {
   "cell_type": "code",
   "execution_count": 7,
   "metadata": {},
   "outputs": [
    {
     "name": "stdout",
     "output_type": "stream",
     "text": [
      "False\n",
      "False\n",
      "True\n"
     ]
    }
   ],
   "source": [
    "print(a > b)\n",
    "print(c*a > c*b)\n",
    "print(a*b*c == c*b*a)"
   ]
  },
  {
   "cell_type": "markdown",
   "metadata": {},
   "source": [
    "## Basic data containers in Python\n",
    "\n",
    "Python has three basic data containers/structures.\n",
    "A brief introduction to these is provided here.\n",
    "\n",
    "### Lists\n",
    "\n",
    "The first object we'll look at is a list.\n",
    "A list is defined by using square brackets `[]` with a comma separated list of objects withn the brackets.\n",
    "The objects within a list can be anything really, but mostly we will deal with lists of numbers.\n",
    "Here are some examples."
   ]
  },
  {
   "cell_type": "code",
   "execution_count": 60,
   "metadata": {},
   "outputs": [
    {
     "name": "stdout",
     "output_type": "stream",
     "text": [
      "[1, 2, 2.718281828459045]\n",
      "[1, 2, 'skip a few', 99, 100]\n",
      "[[1, 2, 2.718281828459045], [1, 2, 'skip a few', 99, 100]]\n"
     ]
    }
   ],
   "source": [
    "mylist = [1,2,e]\n",
    "print(mylist)\n",
    "anotherlist = [1,2,'skip a few',99,100] # this list includes a string!\n",
    "print(anotherlist)\n",
    "thirdlist = [mylist,anotherlist] # list containing two lists!\n",
    "print(thirdlist)"
   ]
  },
  {
   "cell_type": "markdown",
   "metadata": {},
   "source": [
    "The length of a list is the number of objects provided within those square brackets.\n",
    "The length of a list can be determined via the `len()` function.\n",
    "You can also use `len()` to get the length of many other objects."
   ]
  },
  {
   "cell_type": "code",
   "execution_count": 51,
   "metadata": {},
   "outputs": [
    {
     "name": "stdout",
     "output_type": "stream",
     "text": [
      "3\n",
      "5\n"
     ]
    }
   ],
   "source": [
    "print(len(mylist))\n",
    "print(len(anotherlist))"
   ]
  },
  {
   "cell_type": "markdown",
   "metadata": {},
   "source": [
    "To access an object in a list you can pass its index.\n",
    "You do this by adding square brackets `[]` immediately after the name of the list you want to get an object from, and within that you provide the index of the object you want.\n",
    "\n",
    "**Important:** In Python, indexing starts with 0, that is the first object in a list has index 0 and the last object in a list has index one minus the length of the list.\n",
    "A shortcut for accessing the last object is to use the index -1 (similarly -2 is the second last, and so on).\n",
    "Here is an example."
   ]
  },
  {
   "cell_type": "code",
   "execution_count": 52,
   "metadata": {},
   "outputs": [
    {
     "name": "stdout",
     "output_type": "stream",
     "text": [
      "1\n",
      "skip a few\n",
      "100\n",
      "100\n"
     ]
    }
   ],
   "source": [
    "print(anotherlist[0]) # first object\n",
    "print(anotherlist[2]) # the third object\n",
    "print(anotherlist[len(anotherlist)-1]) # last object\n",
    "print(anotherlist[-1]) # shortcut for the last object"
   ]
  },
  {
   "cell_type": "markdown",
   "metadata": {},
   "source": [
    "If you ask for an object with index that does not exist you will get an error, for example:"
   ]
  },
  {
   "cell_type": "code",
   "execution_count": 53,
   "metadata": {},
   "outputs": [
    {
     "ename": "IndexError",
     "evalue": "list index out of range",
     "output_type": "error",
     "traceback": [
      "\u001b[0;31m---------------------------------------------------------------------------\u001b[0m",
      "\u001b[0;31mIndexError\u001b[0m                                Traceback (most recent call last)",
      "\u001b[0;32m<ipython-input-53-cdfa39befc4a>\u001b[0m in \u001b[0;36m<module>\u001b[0;34m\u001b[0m\n\u001b[0;32m----> 1\u001b[0;31m \u001b[0manotherlist\u001b[0m\u001b[0;34m[\u001b[0m\u001b[0;36m5\u001b[0m\u001b[0;34m]\u001b[0m\u001b[0;34m\u001b[0m\u001b[0;34m\u001b[0m\u001b[0m\n\u001b[0m",
      "\u001b[0;31mIndexError\u001b[0m: list index out of range"
     ]
    }
   ],
   "source": [
    "anotherlist[5] # raises IndexError"
   ]
  },
  {
   "cell_type": "markdown",
   "metadata": {},
   "source": [
    "When you have a list within a list, you can access an obect of the inner most list by providing indices in succession, for example:"
   ]
  },
  {
   "cell_type": "code",
   "execution_count": 54,
   "metadata": {},
   "outputs": [
    {
     "name": "stdout",
     "output_type": "stream",
     "text": [
      "[1, 2, 2.718281828459045]\n",
      "2\n"
     ]
    }
   ],
   "source": [
    "print(thirdlist[0]) # gives the first object (mylist from above)\n",
    "print(thirdlist[0][1]) # gives the second object in mylist"
   ]
  },
  {
   "cell_type": "markdown",
   "metadata": {},
   "source": [
    "Objects in a list can be modified/changed at any time.\n",
    "The list will *remember* this change."
   ]
  },
  {
   "cell_type": "code",
   "execution_count": 57,
   "metadata": {},
   "outputs": [
    {
     "name": "stdout",
     "output_type": "stream",
     "text": [
      "[1, -42, 2.718281828459045]\n",
      "[[1, -42, 2.718281828459045], [1, 2, 'skip a few', 99, 100]]\n",
      "[[1, -42, 2.718281828459045], 0]\n",
      "[1, 2, 'skip a few', 99, 100]\n"
     ]
    }
   ],
   "source": [
    "mylist[1] = -42\n",
    "print(mylist) # the second object has changed\n",
    "print(thirdlist) # this is also updated accordingly as it references mylist\n",
    "thirdlist[1] = 0 # replace second object in thirdlist with number 0\n",
    "print(thirdlist) \n",
    "print(anotherlist) # this remains unchanged though"
   ]
  },
  {
   "cell_type": "markdown",
   "metadata": {},
   "source": [
    "You can add to a list by appending to it.\n",
    "You can also *join* two lists by adding them together."
   ]
  },
  {
   "cell_type": "code",
   "execution_count": 61,
   "metadata": {},
   "outputs": [
    {
     "name": "stdout",
     "output_type": "stream",
     "text": [
      "[1, 2, 2.718281828459045, 4]\n",
      "[1, 2, 2.718281828459045, 4, 5, 6]\n"
     ]
    }
   ],
   "source": [
    "mylist.append(4) # add the object '4' to end of mylist\n",
    "print(mylist)\n",
    "fourthlist = mylist + [5,6] # define a new list by joining mylist with [5,6]\n",
    "print(fourthlist)"
   ]
  },
  {
   "cell_type": "markdown",
   "metadata": {},
   "source": [
    "Long lists can be made using the `range()` function.\n",
    "To be precise, `range()` is an *iterator* object, but can be converted to a list using `list()`.\n",
    "If the variable `n` is an integer, then `range(n)` will iterate over the integers from 0 up to n-1. \n",
    "Therefore `list(range(n))` produces a list of the integers 0 up to n-1.\n",
    "Observe this has length `n`. "
   ]
  },
  {
   "cell_type": "code",
   "execution_count": 67,
   "metadata": {},
   "outputs": [
    {
     "name": "stdout",
     "output_type": "stream",
     "text": [
      "[0, 1, 2, 3, 4, 5, 6, 7, 8, 9, 10, 11, 12, 13, 14, 15, 16, 17, 18, 19, 20, 21, 22, 23, 24, 25, 26, 27, 28, 29, 30, 31, 32, 33, 34, 35, 36, 37, 38, 39, 40, 41, 42, 43, 44, 45, 46, 47, 48, 49, 50, 51, 52, 53, 54, 55, 56, 57, 58, 59, 60, 61, 62, 63, 64, 65, 66, 67, 68, 69, 70, 71, 72, 73, 74, 75, 76, 77, 78, 79, 80, 81, 82, 83, 84, 85, 86, 87, 88, 89, 90, 91, 92, 93, 94, 95, 96, 97, 98, 99]\n",
      "100\n",
      "57\n"
     ]
    }
   ],
   "source": [
    "longlist = list(range(100))\n",
    "print(longlist)\n",
    "print(len(longlist))\n",
    "print(longlist[57]) # the 58'th object is 57 as we expect"
   ]
  },
  {
   "cell_type": "markdown",
   "metadata": {},
   "source": [
    "Multiple objects in a list can be accessed using Python's slice notation.\n",
    "Briefly, let `i,j,k` be indices with `i<j`, it works as follows:\n",
    "\n",
    " - `longlist[:i]` returns the first i objects (having indices 0 to i-1)\n",
    " - `longlist[i:]` returns the (i+1)th object and everything after it (having indices i to len(longlist)-1)\n",
    " - `longlist[i:j]` returns the (i+1)th object up to the j'th (having indices i up to j-1)\n",
    " - `longlist[::k]` returns every k'th object starting from the first (i.e. skipping every k-1 object in between)\n",
    " - 'longlist[i:j:k]' returns every k'th object starting from the i'th and not going beyong the (j-1)'th\n",
    " \n",
    "Have a play around with the following examples to become familiar with how this works. \n",
    "Then, see if you can work out what `longlist[:j:k]` and `longlist[i::k]` do.\n",
    "As a bonus, also try `longlist[::-1]` and `longlist[j:i:-k]`."
   ]
  },
  {
   "cell_type": "code",
   "execution_count": 82,
   "metadata": {},
   "outputs": [
    {
     "name": "stdout",
     "output_type": "stream",
     "text": [
      "[0, 1, 2, 3, 4, 5, 6, 7, 8, 9]\n",
      "[95, 96, 97, 98, 99]\n",
      "[90, 91, 92, 93, 94, 95, 96, 97, 98, 99]\n",
      "[90, 91, 92, 93, 94, 95, 96, 97, 98, 99]\n",
      "[22, 23, 24, 25, 26, 27, 28]\n",
      "[0, 8, 16, 24, 32, 40, 48, 56, 64, 72, 80, 88, 96]\n",
      "[34, 39, 44]\n",
      "[34, 39, 44, 49, 54, 59, 64, 69, 74, 79]\n"
     ]
    }
   ],
   "source": [
    "print(longlist[:10]) # first 10 objects in list\n",
    "print(longlist[95:]) # the 96th object and beyond\n",
    "print(longlist[len(longlist)-10:]) # the last 10 objects\n",
    "print(longlist[-10:]) # shortcut for last 10 objects\n",
    "print(longlist[22:29]) # the 23rd to 29th objects (inclusive) \n",
    "print(longlist[::8]) # every eighth object stating from the first\n",
    "print(longlist[34:49:5]) # every fifth object from the 35th up to the 49th\n",
    "print(longlist[34:81:5]) # every fifth object from the 35th up to the 81st"
   ]
  },
  {
   "cell_type": "markdown",
   "metadata": {},
   "source": [
    "Sometimes a copy of a list is desired.\n",
    "One needs to take a little care with this when the original list is intended to remain unchanged.\n",
    "I won't go through this in detail, there are some subtleties when your list contains more than just numbers, but you should take note of what happens in the following cells."
   ]
  },
  {
   "cell_type": "code",
   "execution_count": 74,
   "metadata": {},
   "outputs": [
    {
     "name": "stdout",
     "output_type": "stream",
     "text": [
      "[0, 1, 2, 3, -1, 5, 6, 7, 8, 9]\n",
      "[0, 1, 2, 3, -1, 5, 6, 7, 8, 9]\n"
     ]
    }
   ],
   "source": [
    "integerlist = list(range(10))\n",
    "copyoflist = integerlist # this is not really a 'copy'\n",
    "copyoflist[4] = -1 # change a number\n",
    "print(copyoflist)\n",
    "print(integerlist) # Note this has also been changed"
   ]
  },
  {
   "cell_type": "code",
   "execution_count": 75,
   "metadata": {},
   "outputs": [
    {
     "name": "stdout",
     "output_type": "stream",
     "text": [
      "[0, 1, 2, 3, -1, 5, 6, 7, 8, 9]\n",
      "[0, 1, 2, 3, 4, 5, 6, 7, 8, 9]\n"
     ]
    }
   ],
   "source": [
    "integerlist = list(range(10))\n",
    "copyoflist = integerlist[:] # This IS a copy\n",
    "copyoflist[4] = -1\n",
    "print(copyoflist)\n",
    "print(integerlist) # Note this remains unchanged"
   ]
  },
  {
   "cell_type": "code",
   "execution_count": 76,
   "metadata": {},
   "outputs": [
    {
     "name": "stdout",
     "output_type": "stream",
     "text": [
      "[0, 1, 2, 3, -1, 5, 6, 7, 8, 9]\n",
      "[0, 1, 2, 3, 4, 5, 6, 7, 8, 9]\n"
     ]
    }
   ],
   "source": [
    "integerlist = list(range(10))\n",
    "copyoflist = list(integerlist) # This IS a copy\n",
    "copyoflist[4] = -1\n",
    "print(copyoflist)\n",
    "print(integerlist) # Note this remains unchanged"
   ]
  },
  {
   "cell_type": "markdown",
   "metadata": {},
   "source": [
    "If you want to know more about lists in Python, I refer you to the documentation [here](https://docs.python.org/3/tutorial/datastructures.html).\n",
    "\n",
    "Later you will learn about numpy arrays, which are a much more preferable data container/structure when dealing with lots of numbers.\n",
    "However, lists can still be useful as an intermediate container when constructing arrays, particularly because lists are easily appended to (whereas this is more difficult, and less efficient, with arrays).\n",
    "Indexing of numpy arrays also works the same way as lists so the tricks with slice notation are transferable.\n",
    "\n",
    "#### Exercise\n",
    "\n",
    " - Define a list containing 5 numbers of your choosing. Print the 4th element in that list. Change the 2nd element to be equal to $42$ (without creating a new list). Add a 6th element to the list equal to $100$. Print the resulting list in reverse order.\n",
    " - Define a list containing the integers -10 up to 20 (including both ends). Print every 3rd element of that list starting with the 2nd element.\n",
    " "
   ]
  },
  {
   "cell_type": "code",
   "execution_count": 22,
   "metadata": {},
   "outputs": [
    {
     "name": "stdout",
     "output_type": "stream",
     "text": [
      "3\n",
      "[1, 42, 2, 3, 5, 100]\n",
      "[100, 5, 3, 2, 42, 1]\n"
     ]
    }
   ],
   "source": [
    "newlist = [1, 1, 2, 3, 5]\n",
    "print(newlist[3])\n",
    "newlist[1] = 42\n",
    "newlist.append(100)\n",
    "print(newlist)\n",
    "print(newlist[5::-1])"
   ]
  },
  {
   "cell_type": "code",
   "execution_count": 35,
   "metadata": {},
   "outputs": [
    {
     "name": "stdout",
     "output_type": "stream",
     "text": [
      "[-9, -6, -3, 0, 3, 6, 9, 12, 15, 18]\n"
     ]
    }
   ],
   "source": [
    "newlist = list(range(-10, 21))\n",
    "print(newlist[1::3])"
   ]
  },
  {
   "cell_type": "markdown",
   "metadata": {},
   "source": [
    "### Tuples\n",
    "\n",
    "A tuple is somewhat similar to a list.\n",
    "It contains several elements which you enclose in round brackets/parentheses.\n",
    "However, unlike a list, one a tuple is defined/constructed it can no longer be changed (in computer science terminology we would say a tuple is *immutable* whereas a list is *mutable*).\n",
    "If a change to a tuple is required for some reason it essentially needs to be replaced with a new tuple.\n",
    "There are select uses for tuples that you may see throughout the course, two examples being in describing the shape of multi-dimensional arrays, and occasionally when passing arguments to functions.\n",
    "\n",
    "Tuples have a length which can be determined with `len()`, and are also indexed starting from zero the same as lists, and the same slice notation works.\n",
    "Have a play with the examples below."
   ]
  },
  {
   "cell_type": "code",
   "execution_count": 85,
   "metadata": {},
   "outputs": [
    {
     "name": "stdout",
     "output_type": "stream",
     "text": [
      "(1, 2, 3)\n",
      "3\n",
      "2\n",
      "(0, 1, 2, 3, 4, 5, 6, 7, 8, 9)\n",
      "(3, 5, 7)\n",
      "(5,)\n",
      "5\n",
      "<class 'tuple'>\n",
      "<class 'int'>\n"
     ]
    }
   ],
   "source": [
    "mytuple = (1,2,3) # tuple containing 1,2,3\n",
    "print(mytuple)\n",
    "print(len(mytuple))\n",
    "print(mytuple[1])\n",
    "longertuple = tuple(range(10))\n",
    "print(longertuple)\n",
    "print(longertuple[3:8:2])\n",
    "shorttuple = (5,) # tuple with one element, note the comma is important!\n",
    "print(shorttuple)\n",
    "notatuple = (5)\n",
    "print(notatuple) # brackets here treated as if this was a calculation\n",
    "print(type(shorttuple)) # use type() to query the type\n",
    "print(type(notatuple))  # see, definitely not a tuple"
   ]
  },
  {
   "cell_type": "markdown",
   "metadata": {},
   "source": [
    "Above you can see how the Python built-in function `type()` is used to determine exactly what type of object something is."
   ]
  },
  {
   "cell_type": "markdown",
   "metadata": {},
   "source": [
    "### Dictionaries\n",
    "\n",
    "Dictionaries are a container/structure used to a construct lookup table which can be indexed by something other than integers. \n",
    "They have relatively little use in the context of this course but are still good to know about for select used.\n",
    "They are constructed within curly brakcets `{}` and consist of *key:value* pairs, separated by the colon.\n",
    "The *key* can be anything that is *hashable*, which includes integers and strings, and the *value* can be any python object.\n",
    "A few examples are below.\n",
    "You will learn a bit more if/when we use them."
   ]
  },
  {
   "cell_type": "code",
   "execution_count": 87,
   "metadata": {},
   "outputs": [
    {
     "name": "stdout",
     "output_type": "stream",
     "text": [
      "{'a': 1, 'b': 2, 'bob': 3, 'alice': 33.7, -40: 7.8}\n",
      "3\n",
      "7.8\n"
     ]
    },
    {
     "ename": "KeyError",
     "evalue": "'sam'",
     "output_type": "error",
     "traceback": [
      "\u001b[0;31m---------------------------------------------------------------------------\u001b[0m",
      "\u001b[0;31mKeyError\u001b[0m                                  Traceback (most recent call last)",
      "\u001b[0;32m<ipython-input-87-9b0bfad9b20b>\u001b[0m in \u001b[0;36m<module>\u001b[0;34m\u001b[0m\n\u001b[1;32m      3\u001b[0m \u001b[0mprint\u001b[0m\u001b[0;34m(\u001b[0m\u001b[0mmydict\u001b[0m\u001b[0;34m[\u001b[0m\u001b[0;34m'bob'\u001b[0m\u001b[0;34m]\u001b[0m\u001b[0;34m)\u001b[0m \u001b[0;31m# look up object associated with 'bob'\u001b[0m\u001b[0;34m\u001b[0m\u001b[0;34m\u001b[0m\u001b[0m\n\u001b[1;32m      4\u001b[0m \u001b[0mprint\u001b[0m\u001b[0;34m(\u001b[0m\u001b[0mmydict\u001b[0m\u001b[0;34m[\u001b[0m\u001b[0;34m-\u001b[0m\u001b[0;36m40\u001b[0m\u001b[0;34m]\u001b[0m\u001b[0;34m)\u001b[0m \u001b[0;31m# look up object associated with 'bob'\u001b[0m\u001b[0;34m\u001b[0m\u001b[0;34m\u001b[0m\u001b[0m\n\u001b[0;32m----> 5\u001b[0;31m \u001b[0mmydict\u001b[0m\u001b[0;34m[\u001b[0m\u001b[0;34m'sam'\u001b[0m\u001b[0;34m]\u001b[0m \u001b[0;31m# raises a KeyError as there is no such key in the dictionary\u001b[0m\u001b[0;34m\u001b[0m\u001b[0;34m\u001b[0m\u001b[0m\n\u001b[0m",
      "\u001b[0;31mKeyError\u001b[0m: 'sam'"
     ]
    }
   ],
   "source": [
    "mydict = {'a':1,'b':2,'bob':3,'alice':33.7,-40:7.8} # construction\n",
    "print(mydict)\n",
    "print(mydict['bob']) # look up object associated with 'bob'\n",
    "print(mydict[-40]) # look up object associated with 'bob'\n",
    "mydict['sam'] # raises a KeyError as there is no such key in the dictionary"
   ]
  },
  {
   "cell_type": "code",
   "execution_count": 88,
   "metadata": {},
   "outputs": [
    {
     "name": "stdout",
     "output_type": "stream",
     "text": [
      "{'a': 1, 'b': 2, 'bob': 3, 'alice': 33.7, -40: 7.8, 'sam': [1, 2, 2.718281828459045, 4]}\n"
     ]
    }
   ],
   "source": [
    "mydict['sam'] = mylist # adds a new key,value pair, the value is a list in this case\n",
    "print(mydict)"
   ]
  },
  {
   "cell_type": "markdown",
   "metadata": {},
   "source": [
    "## Control flow in Python\n",
    "\n",
    "There are several way to control the execution of code, generally referred to as 'control flow'.\n",
    "\n",
    "### if/elif/else\n",
    "\n",
    "The first is with if/else constructs. \n",
    "Here is how an if statement works.\n",
    "```\n",
    "if <statement>:\n",
    "    <code that will execute is statement is True>\n",
    "<code which will execute afterwards as per normal>\n",
    "```\n",
    "`<statement>` here can be anything that evaluates as `True` or `False`.\n",
    "When the statement evaluates as `True` then the indented code that follows will be executed, but if the statement is evaluated as `False` then the indented code will be skipped.\n",
    "\n",
    "The colon at the end of the `if` clause is important for making it clear the `<statement>` has ended.\n",
    "Note that many lines of indented code can follow an `if` clause.\n",
    "Code controlled by the `if` clause ends at the first line of code to appear which is not indented (or at the end of a cell).\n",
    "There must be at least one indented line of executable code.\n",
    "\n",
    "A common `<statement>` will be to compare two numbers, for example `a==b` will be `True` if `a` and `b` are equal, but will otherwise return `False` (recall the double equal sign is used to test for equality, as opposed to assigning a value to a variable with a single equals). \n",
    "Alternatively we can compare numbers using inequalities `a<b` or `a>b` or `a<=b` or `a>=b`."
   ]
  },
  {
   "cell_type": "code",
   "execution_count": null,
   "metadata": {},
   "outputs": [],
   "source": [
    "if 1+1==2:\n",
    "    print('one plus one is two') # this will be executed\n",
    "    \n",
    "if 1+1==3:\n",
    "    print('one plus one is three') # this will be skipped\n",
    "    print('or is it?') # this will be skipped as well\n",
    "    \n",
    "if 1+1<4:\n",
    "    print('one plus one is less than four')\n",
    "    print('and is therefore less than 5 as well!') # also printed\n",
    "print('hello') # executed as normal"
   ]
  },
  {
   "cell_type": "markdown",
   "metadata": {},
   "source": [
    "Sometimes it is useful to some code executed when a statement is true, but different code to be executed when a statement is not true. We can use `else:` after an `if (statement):` clause for this.\n",
    "`else:` appears on a single line and is has the same indentation level as the `if (statement):` it relates to (which for now means it is not indented).\n",
    "Code that follows `else:`, which is to be executed when the `if` clause it relates to is `False`, must be indented. One can again include several lines of indented code."
   ]
  },
  {
   "cell_type": "code",
   "execution_count": null,
   "metadata": {},
   "outputs": [],
   "source": [
    "if 2*3==6:\n",
    "    print('two times three is six') # will be executed\n",
    "else:\n",
    "    print('two times three is not six') # will not be executed\n",
    "    \n",
    "if 2*3==7:\n",
    "    print('two times three is seven') # will not be executed\n",
    "    print('or is it?') # also skipped\n",
    "else:\n",
    "    print('two times three is not seven') # will be executed\n",
    "    print('it is six of course!') # also executed \n",
    "print('hello') # executed as normal"
   ]
  },
  {
   "cell_type": "markdown",
   "metadata": {},
   "source": [
    "`elif (another statement):` can also be used after an initial `if (statement):`.\n",
    "It will check `(another statement)` only if the original `(statement)` was `False`.\n",
    "Indented code following `elif (another statement):` will only be executed if `(another statement)` is `True`.\n",
    "Several `elif` clauses may follow an initial `if`, and an `else` clause may come after the final `elif`."
   ]
  },
  {
   "cell_type": "code",
   "execution_count": null,
   "metadata": {},
   "outputs": [],
   "source": [
    "if 1+1==0:\n",
    "    print('one plus one is zero') # not exectuted, move onto next elif\n",
    "elif 1+1==1:\n",
    "    print('one plus one is one') # also not executed, move onto next elif\n",
    "elif 1+1==2:\n",
    "    print('one plus one is two') # is executed, any further elif/else will be ignored\n",
    "elif 1+1==3:\n",
    "    print('one plus one is three') # skipped\n",
    "else:\n",
    "    print('one plus one is none of the above') # skipped"
   ]
  },
  {
   "cell_type": "markdown",
   "metadata": {},
   "source": [
    "You can \"nest\" if statements, consider the following example.\n",
    "Change the value of k several times and examine the output.\n",
    "Examine how code becomes further indented with the nested flow control statements."
   ]
  },
  {
   "cell_type": "code",
   "execution_count": 1,
   "metadata": {},
   "outputs": [
    {
     "name": "stdout",
     "output_type": "stream",
     "text": [
      "k is not a multiple of 2\n",
      "k is not a multiple of 3\n"
     ]
    }
   ],
   "source": [
    "k=5\n",
    "if k%2==0:\n",
    "    print('k is a multiple of 2')\n",
    "else:\n",
    "    print('k is not a multiple of 2')\n",
    "    if k%3==0:\n",
    "        print('k is a multiple of 3')\n",
    "    else:\n",
    "        print('k is not a multiple of 3')"
   ]
  },
  {
   "cell_type": "markdown",
   "metadata": {},
   "source": [
    "#### Exercises\n",
    "\n",
    " - Define $i$ to be some integer, then write down an if/else clause that checks if $i$ is a multiple of $7$ and prints an appropriate statement in either case. Test it on some different values of $i$.\n",
    " - Define $x$ to be some number, write an if/else clause that calculates $y=x^2$ if $x$ is positive but calculates $y=x^3$ otherwise. Test it on some different values of $x$.\n",
    " - Deifine $i$ to be some integer, then write an if/elif/else clause that calculates $j=i/3$ if $i$ is a multiple of $3$, calculates $j=2*i$ if $i$ has remainder $1$ upon division by $3$, and calculates $j=i+1$ if $i$ has remainder $2$ upon division by $3$."
   ]
  },
  {
   "cell_type": "code",
   "execution_count": 28,
   "metadata": {},
   "outputs": [
    {
     "name": "stdout",
     "output_type": "stream",
     "text": [
      "i is not a multiple of 7\n"
     ]
    }
   ],
   "source": [
    "i = 21\n",
    "if i%7 == 0:\n",
    "    print(\"i is a multiple of 7\")\n",
    "else:\n",
    "    print(\"i is not a multiple of 7\")"
   ]
  },
  {
   "cell_type": "code",
   "execution_count": 30,
   "metadata": {},
   "outputs": [
    {
     "name": "stdout",
     "output_type": "stream",
     "text": [
      "144\n"
     ]
    }
   ],
   "source": [
    "x = 12\n",
    "if x > 0:\n",
    "    y = x**2\n",
    "else :\n",
    "    y = x**3\n",
    "print(y)"
   ]
  },
  {
   "cell_type": "code",
   "execution_count": 33,
   "metadata": {},
   "outputs": [
    {
     "name": "stdout",
     "output_type": "stream",
     "text": [
      "20\n"
     ]
    }
   ],
   "source": [
    "i = 10\n",
    "if i%3 == 0:\n",
    "    j = i/3\n",
    "elif i%3 == 1:\n",
    "    j = 2 * i\n",
    "else:\n",
    "    j = i + 1\n",
    "print(j)"
   ]
  },
  {
   "cell_type": "markdown",
   "metadata": {},
   "source": [
    "### Loops\n",
    "\n",
    "There are two main mechanisms to loop code, `for` and `while`.\n",
    "\n",
    "A `for` loop has the form\n",
    "```\n",
    "for <variable> in <list or iterator like object>:\n",
    "    <code part of loop>\n",
    "    <more code part of loop>\n",
    "<normal code outside of loop>\n",
    "```\n",
    "Notice indentation again controls what is considered part of the loop.\n",
    "Immediately after `for` we provide a `<variable>` which takes on different values on each iteration of the loop.\n",
    "The values taken on by `<variable>` are described by the `<list or iterator like object>`.\n",
    "\n",
    "Here are a several examples to consider."
   ]
  },
  {
   "cell_type": "code",
   "execution_count": 4,
   "metadata": {},
   "outputs": [
    {
     "name": "stdout",
     "output_type": "stream",
     "text": [
      "2  is prime\n",
      "3  is prime\n",
      "5  is prime\n",
      "7  is prime\n"
     ]
    }
   ],
   "source": [
    "for i in [2,3,5,7]:\n",
    "    print(i,' is prime')"
   ]
  },
  {
   "cell_type": "code",
   "execution_count": 5,
   "metadata": {},
   "outputs": [
    {
     "name": "stdout",
     "output_type": "stream",
     "text": [
      "0\n",
      "1\n",
      "2\n",
      "3\n",
      "4\n",
      "5\n",
      "6\n",
      "7\n",
      "8\n",
      "9\n"
     ]
    }
   ],
   "source": [
    "for a in range(10):\n",
    "    print(a)    "
   ]
  },
  {
   "cell_type": "code",
   "execution_count": 6,
   "metadata": {},
   "outputs": [
    {
     "name": "stdout",
     "output_type": "stream",
     "text": [
      "10\n"
     ]
    }
   ],
   "source": [
    "s=0\n",
    "for i in range(5):\n",
    "    s = s+i\n",
    "print(s)"
   ]
  },
  {
   "cell_type": "markdown",
   "metadata": {},
   "source": [
    "Note that `range(...)` can take 2 or 3 arguments to iterate over different sets of integers.\n",
    "With two arguments $i<j$ then `range(i,j)` will produce the integers `i` up to `j-1` (note `j` itself is not included).\n",
    "With three arguments `range(i,j,k)` will produce the sequence `i,i+k,i+2k,i+3k` and so on until it skips over `j` (note `j` will not be printed even if $i+mk$ is exactly $j$ for some integer $m\\geq0$).\n",
    "Negative $k$ can be provided along with $i>j$ to produce a sequence of numbers in reverse order.\n",
    "Essentially, the three arguments work just like slice notation `[i:j:k]` when accessing a list.\n",
    "\n",
    "Here are some examples to consider:"
   ]
  },
  {
   "cell_type": "code",
   "execution_count": 7,
   "metadata": {},
   "outputs": [
    {
     "name": "stdout",
     "output_type": "stream",
     "text": [
      "4\n",
      "5\n",
      "6\n",
      "7\n"
     ]
    }
   ],
   "source": [
    "for i in range(4,8):\n",
    "    print(i)"
   ]
  },
  {
   "cell_type": "code",
   "execution_count": 8,
   "metadata": {},
   "outputs": [
    {
     "name": "stdout",
     "output_type": "stream",
     "text": [
      "3\n",
      "5\n",
      "7\n",
      "9\n"
     ]
    }
   ],
   "source": [
    "for i in range(3,10,2):\n",
    "    print(i)"
   ]
  },
  {
   "cell_type": "code",
   "execution_count": 9,
   "metadata": {},
   "outputs": [
    {
     "name": "stdout",
     "output_type": "stream",
     "text": [
      "10\n",
      "7\n",
      "4\n"
     ]
    }
   ],
   "source": [
    "for a in range(10,1,-3):\n",
    "    print(a)"
   ]
  },
  {
   "cell_type": "markdown",
   "metadata": {},
   "source": [
    "One can have multiple nested loops, or an if statement within a loop, or vice versa.\n",
    "\n",
    "Study the following examples. One example below uses the operation `i%j` which calculates the remainder upon dividing $i$ by $j$ (with i,j being integers)."
   ]
  },
  {
   "cell_type": "code",
   "execution_count": 10,
   "metadata": {},
   "outputs": [
    {
     "name": "stdout",
     "output_type": "stream",
     "text": [
      "0 0\n",
      "0 1\n",
      "1 0\n",
      "1 1\n",
      "2 0\n",
      "2 1\n"
     ]
    }
   ],
   "source": [
    "for i in range(3):\n",
    "    for j in range(2):\n",
    "        print(i,j)"
   ]
  },
  {
   "cell_type": "code",
   "execution_count": 11,
   "metadata": {},
   "outputs": [
    {
     "name": "stdout",
     "output_type": "stream",
     "text": [
      "0  is even\n",
      "1  is odd\n",
      "2  is even\n",
      "3  is odd\n",
      "4  is even\n",
      "5  is odd\n"
     ]
    }
   ],
   "source": [
    "for i in range(6):\n",
    "    if i%2==0:\n",
    "        print(i,' is even')\n",
    "    else:\n",
    "        print(i,' is odd')"
   ]
  },
  {
   "cell_type": "markdown",
   "metadata": {},
   "source": [
    "A `while` loop has the form\n",
    "```\n",
    "while <statement>:\n",
    "    <code as part of loop>\n",
    "<code to execute as normal>\n",
    "```\n",
    "A while loop evaluates `<statement>`, if `True` it evaluates all the indented code and then returns to re-evaluate `<statement>`.\n",
    "This repeats indefinitely until `<statement>` is evaluated to be `False`.\n",
    "\n",
    "One must take care with `while` loops because if it is constructed in a way that the statement is never `False` then the loop will continue indefinitely (and it may appear that Python has \"frozen\").\n",
    "\n",
    "Here are some examples to consider."
   ]
  },
  {
   "cell_type": "code",
   "execution_count": 12,
   "metadata": {},
   "outputs": [
    {
     "name": "stdout",
     "output_type": "stream",
     "text": [
      "6\n"
     ]
    }
   ],
   "source": [
    "k=0\n",
    "while k<=5:\n",
    "    k = k+1\n",
    "print(k)"
   ]
  },
  {
   "cell_type": "code",
   "execution_count": 13,
   "metadata": {},
   "outputs": [
    {
     "name": "stdout",
     "output_type": "stream",
     "text": [
      "120\n"
     ]
    }
   ],
   "source": [
    "kfactorial=1\n",
    "k=5\n",
    "while k>0:\n",
    "    kfactorial = kfactorial*k\n",
    "    k = k-1\n",
    "print(kfactorial)"
   ]
  },
  {
   "cell_type": "code",
   "execution_count": 16,
   "metadata": {},
   "outputs": [
    {
     "name": "stdout",
     "output_type": "stream",
     "text": [
      "22\n"
     ]
    }
   ],
   "source": [
    "a = True\n",
    "k = 0\n",
    "while a:\n",
    "    if k>20:\n",
    "        a = False\n",
    "    k = k+1\n",
    "print(k) # think about why this is 22 and not 21"
   ]
  },
  {
   "cell_type": "markdown",
   "metadata": {},
   "source": [
    "A `break` statement may be used to exit a `for` or `while` loop early.\n",
    "Here are some examples."
   ]
  },
  {
   "cell_type": "code",
   "execution_count": 17,
   "metadata": {},
   "outputs": [
    {
     "name": "stdout",
     "output_type": "stream",
     "text": [
      "0\n",
      "1\n",
      "2\n",
      "3\n",
      "4\n",
      "5\n",
      "6\n"
     ]
    }
   ],
   "source": [
    "for a in range(10):\n",
    "    if a==7:\n",
    "        break\n",
    "    print(a) # note that the value 7 will not be printed"
   ]
  },
  {
   "cell_type": "code",
   "execution_count": 19,
   "metadata": {},
   "outputs": [
    {
     "name": "stdout",
     "output_type": "stream",
     "text": [
      "101\n"
     ]
    }
   ],
   "source": [
    "i = 0\n",
    "while True: \n",
    "    # Note: this loop will never end without a break statement\n",
    "    if i>100:\n",
    "        break\n",
    "    i = i+1\n",
    "print(i)"
   ]
  },
  {
   "cell_type": "markdown",
   "metadata": {},
   "source": [
    "#### Exercises\n",
    "\n",
    " - Write down a loop which adds up the numbers $15$ up to $25$\n",
    " - Write down a loop which adds up the square of the numbers $1$ to $10$\n",
    " - Write down a loop which adds up the numbers $10$ to $40$ which are divisible by 7\n",
    " - Write down a loop which add the squares of the numbers $1$ to $20$ excluding any numbers which are divisible by $3$\n",
    " "
   ]
  },
  {
   "cell_type": "code",
   "execution_count": 56,
   "metadata": {},
   "outputs": [
    {
     "name": "stdout",
     "output_type": "stream",
     "text": [
      "220\n"
     ]
    }
   ],
   "source": [
    "total = 0\n",
    "for x in range(15, 26):\n",
    "    total += x\n",
    "print(total)"
   ]
  },
  {
   "cell_type": "code",
   "execution_count": 55,
   "metadata": {},
   "outputs": [
    {
     "name": "stdout",
     "output_type": "stream",
     "text": [
      "385\n"
     ]
    }
   ],
   "source": [
    "total = 0\n",
    "for x in range(1, 11):\n",
    "    total += x**2\n",
    "print(total)"
   ]
  },
  {
   "cell_type": "code",
   "execution_count": 49,
   "metadata": {},
   "outputs": [
    {
     "name": "stdout",
     "output_type": "stream",
     "text": [
      "98\n"
     ]
    }
   ],
   "source": [
    "total = 0\n",
    "for x in range(10, 41):\n",
    "    if x%7 == 0:\n",
    "        total += x\n",
    "print(total)"
   ]
  },
  {
   "cell_type": "code",
   "execution_count": 48,
   "metadata": {},
   "outputs": [
    {
     "name": "stdout",
     "output_type": "stream",
     "text": [
      "2051\n"
     ]
    }
   ],
   "source": [
    "total = 0\n",
    "for x in range(1, 21):\n",
    "    if x%3 != 0:\n",
    "        total += x**2\n",
    "print(total)"
   ]
  },
  {
   "cell_type": "markdown",
   "metadata": {},
   "source": [
    "#### Challenge question\n",
    "\n",
    "The Collatz conjecture is that the following always terminates:\n",
    "\n",
    " - Start with any positive integer $n$\n",
    " - If $n$ is even then calculate $n/2$, otherwise calculate $3n+1$\n",
    " - Repeat the previous line on the new number indefinitely only ending the loop when the result is equal to $1$\n",
    " \n",
    "Write a cell that first sets an initial number to $n$, then enters a while loop which carries out the operations described above ending when the result is equal to $1$. \n",
    "Try it out on several numbers $n$.\n",
    "\n",
    "As an extension exercise, count the number of iterations performed until the loop terminates and print this once the loop finally exits."
   ]
  },
  {
   "cell_type": "code",
   "execution_count": 64,
   "metadata": {},
   "outputs": [
    {
     "name": "stdout",
     "output_type": "stream",
     "text": [
      "Input number 15, Loops until terminated to 1: 17\n",
      "Input number 68, Loops until terminated to 1: 14\n",
      "Input number 650, Loops until terminated to 1: 25\n",
      "Input number 1, Loops until terminated to 1: 0\n"
     ]
    }
   ],
   "source": [
    "def collatz(x):\n",
    "    n = x\n",
    "    count = 0\n",
    "    while n != 1:\n",
    "        if n%2 ==0:\n",
    "            n = n/2\n",
    "            count+=1\n",
    "        else:\n",
    "            n = 3*n + 1\n",
    "            count+=1\n",
    "    return \"Input number \" + str(x) + \", Loops until terminated to 1: \" + str(count)\n",
    "\n",
    "print(collatz(15))\n",
    "print(collatz(68))\n",
    "print(collatz(650))\n",
    "print(collatz(1))"
   ]
  },
  {
   "cell_type": "markdown",
   "metadata": {},
   "source": [
    "### Other control flow\n",
    "\n",
    "There are other forms of control flow, for example `try`/`catch` can be used to handle errors. \n",
    "We'll not consider any of these in this course though."
   ]
  },
  {
   "cell_type": "code",
   "execution_count": null,
   "metadata": {},
   "outputs": [],
   "source": []
  },
  {
   "cell_type": "markdown",
   "metadata": {},
   "source": [
    "## Defining and using your own functions"
   ]
  },
  {
   "cell_type": "markdown",
   "metadata": {},
   "source": [
    "Abstractly, a function takes one or more arguments as inputs, does some work and produces some output.\n",
    "The arguments to a function in Python can be pretty much any object you can define in code, but in this course our function will generally take onr or more numbers or vectors as input, and produce a number or vector as output.\n",
    "\n",
    "There are two ways to define a function. \n",
    "For short/simple functions we can use `lambda`.\n",
    "Defining a function with `lambda` has the general form\n",
    "```\n",
    "<function name> = lambda <one or more variables>:<the result>\n",
    "```\n",
    "For example, the function $f(x)=x^2$ can be defined via\n",
    "```\n",
    "f = lambda x:x**2\n",
    "```\n",
    "A multi-variate function $g(x,y)=x-y^2$ can be defined via\n",
    "```\n",
    "g = lambda x,y:x-y**2\n",
    "```\n",
    "The following shows these examples and their subsequent usage."
   ]
  },
  {
   "cell_type": "code",
   "execution_count": 21,
   "metadata": {},
   "outputs": [
    {
     "name": "stdout",
     "output_type": "stream",
     "text": [
      "4\n",
      "-17.11\n"
     ]
    }
   ],
   "source": [
    "f = lambda x:x**2\n",
    "g = lambda x,y:x-y**2\n",
    "print(f(2))\n",
    "print(g(3.14,-4.5))"
   ]
  },
  {
   "cell_type": "markdown",
   "metadata": {},
   "source": [
    "More complex functions are defined via a `def <function name>(<arguments>):` construct.\n",
    "Following this initial `def` including the function name and arguments you can have any number of indented lines which are executed whenever the function is called.\n",
    "Generally you end a function definition with a `return <result>` statement to proved the result/output of the function back to the user where the function is called.\n",
    "\n",
    "`def` is good to use when you have a complicated function that is more easily described over many lines of code.\n",
    "A function defined using `def` is also free to used all of the control flow patterns you have learnt about previously.\n",
    "\n",
    "Here are several examples (starting with the equivalent of the two lambda functions from earlier)."
   ]
  },
  {
   "cell_type": "code",
   "execution_count": 28,
   "metadata": {},
   "outputs": [
    {
     "name": "stdout",
     "output_type": "stream",
     "text": [
      "4\n",
      "-17.11\n"
     ]
    }
   ],
   "source": [
    "def f(x):\n",
    "    return x**2\n",
    "def g(x,y):\n",
    "    return x-y**2\n",
    "print(f(2))\n",
    "print(g(3.14,-4.5))"
   ]
  },
  {
   "cell_type": "code",
   "execution_count": 27,
   "metadata": {},
   "outputs": [
    {
     "name": "stdout",
     "output_type": "stream",
     "text": [
      "-0.2693527340931746\n"
     ]
    }
   ],
   "source": [
    "def complicated_function(x,y,z):\n",
    "    t = math.sin(x+y)\n",
    "    s = math.cos(z-x)\n",
    "    return 3*t-4*s**2\n",
    "print(complicated_function(1,2,3))"
   ]
  },
  {
   "cell_type": "code",
   "execution_count": 31,
   "metadata": {},
   "outputs": [
    {
     "name": "stdout",
     "output_type": "stream",
     "text": [
      "4.0\n",
      "-4.0\n"
     ]
    }
   ],
   "source": [
    "def signed_square(x):\n",
    "    if x>=0:\n",
    "        return x**2\n",
    "    else:\n",
    "        return -x**2\n",
    "print(signed_square(2.0))\n",
    "print(signed_square(-2.0))"
   ]
  },
  {
   "cell_type": "markdown",
   "metadata": {},
   "source": [
    "There ar many subtleties that occur if you modify the arguments (ior nput variables) as part of the calculation within a function. The best practice is to avoid doing this (unless you know what you are doing).\n",
    "\n",
    "Sometimes it is convenient for a function to have optional arguments.\n",
    "This can be done with both `lambda` and `def` functions.\n",
    "\n",
    "To specify an optional argument we simply need to assign it a default value to be used if the user does not provide one.\n",
    "Optional arguments must come after all of the mandatory arguements when defining the function.\n",
    "Here is an example of $g(x,y)$ from above where $y=0$ is used as default if it is not provided."
   ]
  },
  {
   "cell_type": "code",
   "execution_count": 23,
   "metadata": {},
   "outputs": [
    {
     "name": "stdout",
     "output_type": "stream",
     "text": [
      "3.14\n",
      "-17.11\n",
      "3.14\n",
      "-17.11\n"
     ]
    }
   ],
   "source": [
    "g = lambda x,y=0:x-y**2\n",
    "print(g(3.14))\n",
    "print(g(3.14,-4.5))\n",
    "\n",
    "def g(x,y=0):\n",
    "    return x-y**2\n",
    "print(g(3.14))\n",
    "print(g(3.14,-4.5))"
   ]
  },
  {
   "cell_type": "markdown",
   "metadata": {},
   "source": [
    "An existing function can be called within another function.\n",
    "Consider the following example."
   ]
  },
  {
   "cell_type": "code",
   "execution_count": 46,
   "metadata": {},
   "outputs": [
    {
     "name": "stdout",
     "output_type": "stream",
     "text": [
      "25\n"
     ]
    }
   ],
   "source": [
    "def add_numbers(x,y):\n",
    "    return x+y\n",
    "def square_number(x):\n",
    "    return x**2\n",
    "def add_squares(x,y):\n",
    "    x_squared = square_number(x)\n",
    "    y_squared = square_number(y)\n",
    "    return add_numbers(x_squared,y_squared)\n",
    "print(add_squares(3,4))"
   ]
  },
  {
   "cell_type": "markdown",
   "metadata": {},
   "source": [
    "#### Exercises\n",
    "\n",
    " - Define a function that takes $x$ as input and returns $y=x^2(1-x)$. Test it by calculating a few samples.\n",
    " - Define a function that takes $x$ and $y$ as input and returns $4-x**2-y**2+2*x*y$. Test it by calculating a few samples.\n",
    " - Define a function that calculates the factorial of a positive integer $m$. Test it by calculating a few samples.\n",
    " - Come up with some functions of your own to define and try out."
   ]
  },
  {
   "cell_type": "code",
   "execution_count": 61,
   "metadata": {},
   "outputs": [
    {
     "name": "stdout",
     "output_type": "stream",
     "text": [
      "-1584\n",
      "-18\n",
      "0\n"
     ]
    }
   ],
   "source": [
    "f = lambda x:x**2 * (1 - x)\n",
    "print(f(12))\n",
    "print(f(3))\n",
    "print(f(1))"
   ]
  },
  {
   "cell_type": "code",
   "execution_count": 65,
   "metadata": {},
   "outputs": [
    {
     "name": "stdout",
     "output_type": "stream",
     "text": [
      "3\n",
      "-21\n",
      "-21\n"
     ]
    }
   ],
   "source": [
    "f = lambda x,y:4 - x**2 - y**2 + 2*x*y\n",
    "print(f(1, 2))\n",
    "print(f(4, 9))\n",
    "print(f(6, 1))"
   ]
  },
  {
   "cell_type": "code",
   "execution_count": 1,
   "metadata": {},
   "outputs": [
    {
     "name": "stdout",
     "output_type": "stream",
     "text": [
      "6\n",
      "120\n",
      "5040\n",
      "---------------\n",
      "\n",
      "[0, 1, 1, 2, 3]\n",
      "[0, 1, 1, 2, 3, 5, 8, 13, 21, 34]\n",
      "[0, 1, 1, 2, 3, 5, 8, 13, 21, 34, 55, 89, 144, 233, 377, 610, 987, 1597, 2584, 4181]\n"
     ]
    }
   ],
   "source": [
    "def factorial(m):\n",
    "    total = m\n",
    "    for x in range(m-1, 0, -1):\n",
    "        total = total*x\n",
    "    return total\n",
    "print(factorial(3))\n",
    "print(factorial(5))\n",
    "print(factorial(7))\n",
    "\n",
    "print(\"---------------\")\n",
    "print(\"\")\n",
    "#defining own functions here because no more cells; \n",
    "#fibonacci function which returns a list up the nth fibonacci term\n",
    "\n",
    "def fibonacci(t):\n",
    "    listt = []\n",
    "    if t == 0:\n",
    "        return listt\n",
    "    listt = [0, 1]\n",
    "    for x in range(t-2):\n",
    "        listt.append(listt[x]+listt[x+1])\n",
    "    return listt\n",
    "print(fibonacci(5))\n",
    "print(fibonacci(10))\n",
    "print(fibonacci(20))"
   ]
  },
  {
   "cell_type": "markdown",
   "metadata": {},
   "source": [
    "## Matplotlib\n",
    "\n",
    "Matplotlib is one of the main plotting libraries for Python.\n",
    "\n",
    "We generally import it (in the first cell of a notebook) as follows:"
   ]
  },
  {
   "cell_type": "code",
   "execution_count": 2,
   "metadata": {},
   "outputs": [],
   "source": [
    "import matplotlib.pyplot as plt\n",
    "%matplotlib inline"
   ]
  },
  {
   "cell_type": "markdown",
   "metadata": {},
   "source": [
    "The line `%matplotlib inline` is a special line to use in jupyter notebook which will ensure plots display within the notebook rather than in a separate window (this should be the default behaviour on most up to date platforms, but specifying explicitly is a good idea).\n",
    "\n",
    "Matplotlib can produce a large variety of plots in 2 and 3 dimensions, but in this lab we will concentrate on simple plots within the $xy$ plane.\n",
    "\n",
    "`plt.plot(<list of x coordinates>,<list of y coordinates>)` will plot a sequence of lines between each $(x,y)$ coordinate pair corresponding to the lists (or later arrays) provided. \n",
    "We follow this with `plt.show()` to finalise and display the plot."
   ]
  },
  {
   "cell_type": "code",
   "execution_count": 4,
   "metadata": {},
   "outputs": [
    {
     "data": {
      "image/png": "[encoded data removed]",
      "text/plain": [
       "<Figure size 432x288 with 1 Axes>"
      ]
     },
     "metadata": {
      "needs_background": "light"
     },
     "output_type": "display_data"
    }
   ],
   "source": [
    "xc = [1,2,3]\n",
    "yc = [2,1,3]\n",
    "plt.plot(xc,yc)\n",
    "plt.show()"
   ]
  },
  {
   "cell_type": "markdown",
   "metadata": {},
   "source": [
    "Matplotlib is clever and generally picks a display domain and range for the plot that fits all of the data you have provided.\n",
    "You can however modify this by specifying the limits of the $x$ and $y$ axes manually.\n",
    "We can also turn on a background grid.\n",
    "For example:"
   ]
  },
  {
   "cell_type": "code",
   "execution_count": 5,
   "metadata": {},
   "outputs": [
    {
     "data": {
      "image/png": "[encoded data removed]",
      "text/plain": [
       "<Figure size 432x288 with 1 Axes>"
      ]
     },
     "metadata": {
      "needs_background": "light"
     },
     "output_type": "display_data"
    }
   ],
   "source": [
    "plt.plot(xc,yc)\n",
    "plt.xlim(0.0,4.0)\n",
    "plt.ylim(-1.0,5.0)\n",
    "plt.grid()\n",
    "plt.show()"
   ]
  },
  {
   "cell_type": "markdown",
   "metadata": {},
   "source": [
    "The axis values shown, which also produce the grid, are also automatically chosen by matplotlib.\n",
    "These too can be manually specified but for simplicity we'll just let matplotlib handle this most of the time.\n",
    "\n",
    "Note that the axis values do not lie on the traditional x,y axes that pass through the origin, instead matplotlib places these on the bottom and left sides of the plot.\n",
    "This is so the axes themselves don't get in the way of the data you are plotting.\n",
    "\n",
    "We can add labels to each axis using `plt.xlabel(<string>)` and `plt.ylabel(<string>)`. \n",
    "A title can also be added to a plot via `plt.title(<string>)`.\n",
    "These are demonstrated in the next cell.\n",
    "\n",
    "Rather than plot lines between the points we can place markers at the points by specifying `'o'` as a third argument.\n",
    "For example"
   ]
  },
  {
   "cell_type": "code",
   "execution_count": 6,
   "metadata": {},
   "outputs": [
    {
     "data": {
      "image/png": "[encoded data removed]",
      "text/plain": [
       "<Figure size 432x288 with 1 Axes>"
      ]
     },
     "metadata": {
      "needs_background": "light"
     },
     "output_type": "display_data"
    }
   ],
   "source": [
    "plt.plot(xc,yc,'o')\n",
    "plt.xlim(0.0,4.0)\n",
    "plt.ylim(-1.0,5.0)\n",
    "plt.xlabel('the x axis')\n",
    "plt.ylabel('the y axis')\n",
    "plt.title('a plot of three points')\n",
    "plt.grid()\n",
    "plt.show()"
   ]
  },
  {
   "cell_type": "markdown",
   "metadata": {},
   "source": [
    "If we want the markers in addition to dashed lines between the points then we can call the plot command twice using different arguments.\n",
    "For example:"
   ]
  },
  {
   "cell_type": "code",
   "execution_count": 43,
   "metadata": {},
   "outputs": [
    {
     "data": {
      "image/png": "[encoded data removed]",
      "text/plain": [
       "<Figure size 432x288 with 1 Axes>"
      ]
     },
     "metadata": {
      "needs_background": "light"
     },
     "output_type": "display_data"
    }
   ],
   "source": [
    "plt.plot(xc,yc,'o')\n",
    "plt.plot(xc,yc,'--')\n",
    "plt.xlim(0.0,4.0)\n",
    "plt.ylim(-1.0,5.0)\n",
    "plt.grid()\n",
    "plt.show()"
   ]
  },
  {
   "cell_type": "markdown",
   "metadata": {},
   "source": [
    "Other possible markers are `'x'`,`'+'`,`'*'` (star),`'s'` (square) and many more.\n",
    "\n",
    "Other possible line styles are `'-'` (normal line),`':'` (dotted),`'-.'` (dash-dotted), and many more\n",
    "\n",
    "Observe that by having more than one `plt.plot` command before `plt.show()` they will appear on the same plot (or figure).\n",
    "If we put a `plt.show()` after each individual `plt.plot` command they would appear on two separate plots (or figures).\n",
    "Try it out!\n",
    "\n",
    "Matplotlib automatically cycles through plot colors, but you can ask for specific colors by including it in the string which specifies the marker/line type.\n",
    "Basic colors matplotlib knows about are `'r'` red, `'b'` blue, `'g'` green, `'c'` cyan, `'m'` magenta, `'y'` yellow, `''` black.\n",
    "Arbitrary colors can be specified by other means that we will not discuss.\n",
    "\n",
    "Here is an example"
   ]
  },
  {
   "cell_type": "code",
   "execution_count": 48,
   "metadata": {},
   "outputs": [
    {
     "data": {
      "image/png": "[encoded data removed]",
      "text/plain": [
       "<Figure size 432x288 with 1 Axes>"
      ]
     },
     "metadata": {
      "needs_background": "light"
     },
     "output_type": "display_data"
    }
   ],
   "source": [
    "plt.plot(xc,yc,'rs')\n",
    "plt.plot(xc,yc,'g-.')\n",
    "plt.xlim(0.0,4.0)\n",
    "plt.ylim(-1.0,5.0)\n",
    "plt.grid()\n",
    "plt.show()"
   ]
  },
  {
   "cell_type": "markdown",
   "metadata": {},
   "source": [
    "Okay, so how can we plot a function $y=f(x)$?\n",
    "\n",
    "First we need to produce a sequence of $x$ coordinates, then calculate their corresponding $y$ coordinates, and then pass them to matplotlib.\n",
    "\n",
    "Here is an example."
   ]
  },
  {
   "cell_type": "code",
   "execution_count": 53,
   "metadata": {},
   "outputs": [
    {
     "data": {
      "image/png": "[encoded data removed]",
      "text/plain": [
       "<Figure size 432x288 with 1 Axes>"
      ]
     },
     "metadata": {
      "needs_background": "light"
     },
     "output_type": "display_data"
    }
   ],
   "source": [
    "x = list(range(-3,4)) # integers -3 to 3\n",
    "f = lambda x:x**2     # function f(x)=x^2\n",
    "y = [f(a) for a in x] # calculates f(a) for each a in the list of x values\n",
    "plt.plot(x,y)\n",
    "plt.grid()\n",
    "plt.show()"
   ]
  },
  {
   "cell_type": "markdown",
   "metadata": {},
   "source": [
    "You may notice this is not a very good plot.\n",
    "The points are too far apart and we can see the straight lines between points.\n",
    "To obtain a smooth looking plot we need many more x values closer together.\n",
    "\n",
    "Here is one way you might approach this."
   ]
  },
  {
   "cell_type": "code",
   "execution_count": 54,
   "metadata": {},
   "outputs": [
    {
     "data": {
      "image/png": "[encoded data removed]",
      "text/plain": [
       "<Figure size 432x288 with 1 Axes>"
      ]
     },
     "metadata": {
      "needs_background": "light"
     },
     "output_type": "display_data"
    }
   ],
   "source": [
    "i = list(range(-30,31)) # integers -30 to 30\n",
    "x = [0.1*a for a in i]  # numbers -3,-2.9,-2.8,...,3.0\n",
    "y = [f(a) for a in x]   # numbers f(a) for each a in the list x\n",
    "plt.plot(x,y)\n",
    "plt.grid()\n",
    "plt.show()"
   ]
  },
  {
   "cell_type": "markdown",
   "metadata": {},
   "source": [
    "This looks much nicer, but the above approach is not very efficient way to produce a smooth plot, both in terms of the amount of code required and the computation time.\n",
    "\n",
    "It will be much easier and faster to use numpy arrays, which we are about to introduce.\n",
    "\n",
    "But for the moment, try the following exercises.\n",
    "\n",
    "#### Exercises\n",
    "\n",
    " - Produce a plot of the points $(-1,-1)$, $(-1,3)$, $(2,2)$, $(0,1)$, $(2,0)$. Plot both markers at the points and a dotted line through the points (in the order provided). Set the range of the plot to be $x\\in[-4,4]$ and $y\\in[-2,4]$. Add labels to the two axes.\n",
    " - Produce a plot of the function $f(x)=(x-3)x(x+3)$ for $x\\in[-5,5]$. Ensure you choose enough sample points to get a smooth looking plot. You may let matplotlib choose the range automatically."
   ]
  },
  {
   "cell_type": "code",
   "execution_count": 7,
   "metadata": {},
   "outputs": [
    {
     "data": {
      "image/png": "[encoded data removed]",
      "text/plain": [
       "<Figure size 432x288 with 1 Axes>"
      ]
     },
     "metadata": {
      "needs_background": "light"
     },
     "output_type": "display_data"
    }
   ],
   "source": [
    "import matplotlib.pyplot as plt\n",
    "%matplotlib inline\n",
    "\n",
    "x = [-1, -1, 2, 0, 2]\n",
    "y = [-1, 3, 2, 1, 0]\n",
    "plt.plot(x, y, '--')\n",
    "plt.xlabel(\"x axis\")\n",
    "plt.ylabel(\"y axis\")\n",
    "plt.xlim(-4, 4)\n",
    "plt.ylim(-2, 4)\n",
    "plt.show()"
   ]
  },
  {
   "cell_type": "code",
   "execution_count": 14,
   "metadata": {},
   "outputs": [
    {
     "data": {
      "image/png": "[encoded data removed]",
      "text/plain": [
       "<Figure size 432x288 with 1 Axes>"
      ]
     },
     "metadata": {
      "needs_background": "light"
     },
     "output_type": "display_data"
    }
   ],
   "source": [
    "import matplotlib.pyplot as plt\n",
    "%matplotlib inline\n",
    "\n",
    "f = lambda x:(x - 3) * x * (x + 3)\n",
    "i = list(range(-50, 50))\n",
    "x = [0.1*a for a in i]\n",
    "y = [f(a) for a in x]\n",
    "plt.plot(x,y)\n",
    "#plt.xlim(-5, 5)\n",
    "plt.grid()\n",
    "plt.show()"
   ]
  },
  {
   "cell_type": "markdown",
   "metadata": {},
   "source": [
    "## Numpy\n",
    "\n",
    "Numpy introduces arrays to Python.\n",
    "\n",
    "There are several nice features to using arrays\n",
    "\n",
    " - They can be used to describe vectors and matrices\n",
    " - They provide an efficient to perform operations on many numbers\n",
    " - They make plotting smooth function simpler\n",
    " \n",
    "There are many aspects to numpy and in this lab we will cover the basics of one dimensional arrays.\n",
    "\n",
    "First though, the standard way to import numpy (usually in the first cell of a notebook) will be via:"
   ]
  },
  {
   "cell_type": "code",
   "execution_count": 7,
   "metadata": {},
   "outputs": [],
   "source": [
    "import numpy as np"
   ]
  },
  {
   "cell_type": "markdown",
   "metadata": {},
   "source": [
    "### Array construction\n",
    "\n",
    "There are several ways to construct one dimensional arrays.\n",
    "\n",
    " - `np.array(<list>)` converts a list of numbers into an array\n",
    " - `np.zeros(n)` constructs an array of length $n$ with each component equal to 0 ($n$ must be a positive integer)\n",
    " - `np.ones(n)` constructs an array of length $n$ with each component equal to 1.\n",
    " - `np.full(n,a)` constructs an array of length $n$ with each component equal to $a$ ($a$ can be any floating point number)\n",
    " - `np.arange(a,b,c)` constructs an array containing $a,a+c,a+2c,a+3c,\\dots$ up to (but not including) $b$ (this behaves similar to `range(i,j,k)` but `a,b,c` can be any floating point number)\n",
    " - `np.linspace(a,b,n)` produces an array of length $n$ containing equally spaced samples from the interval $[a,b]$ (including the endpoints, so the spacing is $\\frac{(b-a)}{(n-1)}$)\n",
    " \n",
    "`np.linspace(a,b,n)` and `np.arange(a,b,c)` will generally be the most useful of these, especially for plotting.\n",
    "Here is an some examples of each."
   ]
  },
  {
   "cell_type": "code",
   "execution_count": 14,
   "metadata": {},
   "outputs": [
    {
     "name": "stdout",
     "output_type": "stream",
     "text": [
      "[0. 0. 0. 0.]\n",
      "[1. 1. 1. 1. 1.]\n",
      "[-3.14159265 -3.14159265 -3.14159265]\n",
      "[2.  2.5 3.  3.5 4.  4.5]\n",
      "[ 0.  2.  4.  6.  8. 10.]\n"
     ]
    }
   ],
   "source": [
    "print(np.zeros(4))\n",
    "print(np.ones(5))\n",
    "print(np.full(3,-np.pi)) # np.pi is the number pi\n",
    "print(np.arange(2,5,0.5))\n",
    "print(np.linspace(0,10,6))"
   ]
  },
  {
   "cell_type": "markdown",
   "metadata": {},
   "source": [
    "The nice thing about numpy arrays is we can perform math operations on them as if they were a normal variable and that operation will be automatically applied to every component in the array.\n",
    "The length of a one dimensional array can also be checked using `len(<array>)` or `<array>.size`.\n",
    "Here are some examples."
   ]
  },
  {
   "cell_type": "code",
   "execution_count": 41,
   "metadata": {},
   "outputs": [
    {
     "name": "stdout",
     "output_type": "stream",
     "text": [
      "6\n",
      "6\n",
      "[0. 1. 2. 3. 4. 5.]\n",
      "[ 0.  2.  4.  6.  8. 10.]\n",
      "[ 0.  1.  4.  9. 16. 25.]\n",
      "[ 2. 11. 18. 23. 26. 27.]\n"
     ]
    }
   ],
   "source": [
    "v = np.linspace(0,5,6)\n",
    "print(len(v))\n",
    "print(v.size)\n",
    "print(v)\n",
    "print(2*v)\n",
    "print(v**2)\n",
    "print(v*(10-v)+2)"
   ]
  },
  {
   "cell_type": "markdown",
   "metadata": {},
   "source": [
    "Not only is this convenient for coding, it is much faster then doing these oprations on each component in a loop.\n",
    "\n",
    "Additionally, we can apply math functions like $\\sin(x),\\cos(x),\\tan(x),e^x$ and so on to an array and it will be applied over each component.\n",
    "Here are some examples."
   ]
  },
  {
   "cell_type": "code",
   "execution_count": 19,
   "metadata": {},
   "outputs": [
    {
     "name": "stdout",
     "output_type": "stream",
     "text": [
      "[0.00000000e+00 5.00000000e-01 8.66025404e-01 1.00000000e+00\n",
      " 8.66025404e-01 5.00000000e-01 1.22464680e-16]\n",
      "[ 1.00000000e+00  8.66025404e-01  5.00000000e-01  6.12323400e-17\n",
      " -5.00000000e-01 -8.66025404e-01 -1.00000000e+00]\n",
      "[ 0.00000000e+00  5.77350269e-01  1.73205081e+00  1.63312394e+16\n",
      " -1.73205081e+00 -5.77350269e-01 -1.22464680e-16]\n",
      "[ 1.          1.68809179  2.84965391  4.81047738  8.1205274  13.70819567\n",
      " 23.14069263]\n"
     ]
    }
   ],
   "source": [
    "v = np.linspace(0,np.pi,7) # the array [0,pi/6,pi/3,pi/2,2pi/3,5pi/6,1]\n",
    "print(np.sin(v))\n",
    "print(np.cos(v))\n",
    "print(np.tan(v))\n",
    "print(np.exp(v))"
   ]
  },
  {
   "cell_type": "markdown",
   "metadata": {},
   "source": [
    "Observe here that mathematically $\\tan(\\pi/2)$ is not defined, but the nature of numerical approximation means that numpy returns $\\tan(x)$ for $x$ very close to, but not exactly $\\pi/2$.\n",
    "The consequence is we get a very large number 1.63312394e+16 which is scientific notation for $1.63312394\\times10^16$.\n",
    "\n",
    "Similarly we expect $\\sin(\\pi)=0$, $\\cos(\\pi/2)=0$ and so on but we instead get a very small number like 1.22464680e-16 ($=1.22464680\\times10^{-16}$).\n",
    "\n",
    "Sometimes numpy will complain if you ask for something which is not sensible.\n",
    "For example trying to take the natural log via `np.log` of zero."
   ]
  },
  {
   "cell_type": "code",
   "execution_count": 20,
   "metadata": {},
   "outputs": [
    {
     "name": "stderr",
     "output_type": "stream",
     "text": [
      "<ipython-input-20-7cfd48af9203>:1: RuntimeWarning: divide by zero encountered in log\n",
      "  np.log(v) # numpy complains because zero is in the array v\n"
     ]
    },
    {
     "data": {
      "text/plain": [
       "array([       -inf, -0.64702958,  0.0461176 ,  0.45158271,  0.73926478,\n",
       "        0.96240833,  1.14472989])"
      ]
     },
     "execution_count": 20,
     "metadata": {},
     "output_type": "execute_result"
    }
   ],
   "source": [
    "np.log(v) # numpy complains because zero is in the array v"
   ]
  },
  {
   "cell_type": "markdown",
   "metadata": {},
   "source": [
    "We can calculate the sum or mean/average of all the components in an array via `np.sum()` and `np.mean()` respectively."
   ]
  },
  {
   "cell_type": "code",
   "execution_count": 39,
   "metadata": {},
   "outputs": [
    {
     "name": "stdout",
     "output_type": "stream",
     "text": [
      "10.995574287564274\n",
      "10.995574287564274\n",
      "1.5707963267948963\n",
      "1.5707963267948963\n"
     ]
    }
   ],
   "source": [
    "print(np.sum(v))\n",
    "print(v.sum())  # a shortcut\n",
    "print(np.mean(v))\n",
    "print(v.mean()) # a shortcut"
   ]
  },
  {
   "cell_type": "markdown",
   "metadata": {},
   "source": [
    "When you have different two arrays which are the same length then we can add them together, multiply them together, and so on. \n",
    "Each of these operations will be performed on a component by component basis.\n",
    "If you try to do this with two arrays which are not the same length you will get an error.\n",
    "You can also compute the dot product of two arrays of the same length using `np.dot()`."
   ]
  },
  {
   "cell_type": "code",
   "execution_count": 44,
   "metadata": {},
   "outputs": [
    {
     "name": "stdout",
     "output_type": "stream",
     "text": [
      "[2.  2.4 2.8 3.2 3.6 4. ]\n",
      "[0.   0.44 0.96 1.56 2.24 3.  ]\n",
      "[1.         1.17080491 1.41933364 1.77412415 2.27890607 3.        ]\n",
      "8.2\n"
     ]
    }
   ],
   "source": [
    "u = np.linspace(0,1,6)\n",
    "v = np.linspace(2,3,6)\n",
    "print(u+v)\n",
    "print(u*v)\n",
    "print(v**u)\n",
    "print(np.dot(u,v))"
   ]
  },
  {
   "cell_type": "markdown",
   "metadata": {},
   "source": [
    "#### Exercise\n",
    "\n",
    " - Produce an array containing the numbers $[0,1/4,1/2,3/4,\\dots,2]$.\n",
    " - Calculate the cube of the array.\n",
    " - Produce a second array containing the numbers $[-4,-3,-2,\\dots,4]$\n",
    " - Calculate the dot product of the second array with the cube of the first."
   ]
  },
  {
   "cell_type": "code",
   "execution_count": 20,
   "metadata": {},
   "outputs": [
    {
     "name": "stdout",
     "output_type": "stream",
     "text": [
      "[0.   0.25 0.5  0.75 1.   1.25 1.5  1.75 2.  ]\n",
      "[0.     0.0625 0.25   0.5625 1.     1.5625 2.25   3.0625 4.    ]\n"
     ]
    }
   ],
   "source": [
    "import numpy as np\n",
    "\n",
    "x = np.linspace(0, 2, 9)\n",
    "print(x)\n",
    "print(x**2)"
   ]
  },
  {
   "cell_type": "code",
   "execution_count": 25,
   "metadata": {},
   "outputs": [
    {
     "name": "stdout",
     "output_type": "stream",
     "text": [
      "[-4. -3. -2. -1.  0.  1.  2.  3.  4.]\n",
      "15.0\n"
     ]
    }
   ],
   "source": [
    "y = np.linspace(-4, 4, 9)\n",
    "print(y)\n",
    "print(np.dot(x, y))"
   ]
  },
  {
   "cell_type": "markdown",
   "metadata": {},
   "source": [
    "### Plotting functions $y=f(x)$ using arrays\n",
    "\n",
    "Okay, with this little bit of numpy and matplotlib knowledge it is now very easy to produce smooth plots of functions of the form $y=f(x)$.\n",
    "We'll jump straight into some examples before proceeding with some exercises."
   ]
  },
  {
   "cell_type": "code",
   "execution_count": 24,
   "metadata": {},
   "outputs": [
    {
     "data": {
      "image/png": "[encoded data removed]",
      "text/plain": [
       "<Figure size 432x288 with 1 Axes>"
      ]
     },
     "metadata": {
      "needs_background": "light"
     },
     "output_type": "display_data"
    }
   ],
   "source": [
    "x = np.linspace(0,2*np.pi,10) # With only 10 samples this will be a rough looking plot\n",
    "y = np.sin(x)\n",
    "plt.plot(x,y)\n",
    "plt.grid()\n",
    "plt.show()"
   ]
  },
  {
   "cell_type": "code",
   "execution_count": 25,
   "metadata": {},
   "outputs": [
    {
     "data": {
      "image/png": "[encoded data removed]",
      "text/plain": [
       "<Figure size 432x288 with 1 Axes>"
      ]
     },
     "metadata": {
      "needs_background": "light"
     },
     "output_type": "display_data"
    }
   ],
   "source": [
    "x = np.linspace(0,2*np.pi,100) # With 100 samples we get a smoother plot\n",
    "y = np.sin(x)\n",
    "plt.plot(x,y)\n",
    "plt.grid()\n",
    "plt.show()"
   ]
  },
  {
   "cell_type": "code",
   "execution_count": 32,
   "metadata": {},
   "outputs": [
    {
     "data": {
      "image/png": "[encoded data removed]",
      "text/plain": [
       "<Figure size 432x288 with 1 Axes>"
      ]
     },
     "metadata": {
      "needs_background": "light"
     },
     "output_type": "display_data"
    }
   ],
   "source": [
    "x = np.arange(-5,5.1,0.1) # sample from -5 to 5 with spacing of 0.1 between points\n",
    "y1 = (x-3)*x*(x+3)\n",
    "y2 = 2*x\n",
    "plt.plot(x,y1)\n",
    "plt.plot(x,y2)\n",
    "plt.grid()\n",
    "plt.show()"
   ]
  },
  {
   "cell_type": "markdown",
   "metadata": {},
   "source": [
    "#### Exercises\n",
    "\n",
    " - Plot $y=\\tan(x)$ over $x\\in[-3,3]$. You may want to restrict the $y$ range to get a better view of what happens around the origin.\n",
    " - Plot the function $y=x\\sin(x^2)$ over $x\\in[0,10]$\n",
    " - Plot the function $y=\\frac{1}{10}x^3$ and $y=5-x$ on the same plot over $x\\in[-5,5]$. Produce a second plot of the same functions but restrict the domain and range of the plot to \"zoom in\" over the area where the two curves intersect. Include a background grid in the plot and use this to estimate the coordinates of the intersection of the two functions.\n",
    " - Plot some other functions of your own choosing!"
   ]
  },
  {
   "cell_type": "code",
   "execution_count": 37,
   "metadata": {},
   "outputs": [
    {
     "data": {
      "image/png": "[encoded data removed]",
      "text/plain": [
       "<Figure size 432x288 with 1 Axes>"
      ]
     },
     "metadata": {
      "needs_background": "light"
     },
     "output_type": "display_data"
    }
   ],
   "source": [
    "import matplotlib.pyplot as plt\n",
    "%matplotlib inline\n",
    "import numpy as np\n",
    "\n",
    "x1 = np.linspace(-3, 3, 200)\n",
    "y1 = np.tan(x1)\n",
    "plt.plot(x1, y1)\n",
    "plt.ylim(-30, 30)\n",
    "plt.grid()\n",
    "plt.show()"
   ]
  },
  {
   "cell_type": "code",
   "execution_count": 39,
   "metadata": {},
   "outputs": [
    {
     "data": {
      "image/png": "[encoded data removed]",
      "text/plain": [
       "<Figure size 432x288 with 1 Axes>"
      ]
     },
     "metadata": {
      "needs_background": "light"
     },
     "output_type": "display_data"
    }
   ],
   "source": [
    "x2 = np.linspace(0, 10, 200)\n",
    "y2 = x2*np.sin(x2**2)\n",
    "plt.plot(x2, y2)\n",
    "plt.grid()\n",
    "plt.show()"
   ]
  },
  {
   "cell_type": "code",
   "execution_count": 44,
   "metadata": {},
   "outputs": [
    {
     "data": {
      "image/png": "[encoded data removed]",
      "text/plain": [
       "<Figure size 432x288 with 1 Axes>"
      ]
     },
     "metadata": {
      "needs_background": "light"
     },
     "output_type": "display_data"
    },
    {
     "data": {
      "image/png": "[encoded data removed]",
      "text/plain": [
       "<Figure size 432x288 with 1 Axes>"
      ]
     },
     "metadata": {
      "needs_background": "light"
     },
     "output_type": "display_data"
    }
   ],
   "source": [
    "x3 = np.linspace(-5, 5, 200)\n",
    "y4 = 1/10 * x3**3\n",
    "y5 = 5 - x3\n",
    "plt.plot(x3, y4)\n",
    "plt.plot(x3, y5)\n",
    "plt.grid()\n",
    "plt.show()\n",
    "\n",
    "plt.plot(x3, y4)\n",
    "plt.plot(x3, y5)\n",
    "plt.xlim(2.5, 2.9)\n",
    "plt.ylim(2, 2.4)\n",
    "plt.grid()\n",
    "plt.show()"
   ]
  },
  {
   "cell_type": "code",
   "execution_count": 46,
   "metadata": {},
   "outputs": [
    {
     "data": {
      "image/png": "[encoded data removed]",
      "text/plain": [
       "<Figure size 432x288 with 1 Axes>"
      ]
     },
     "metadata": {
      "needs_background": "light"
     },
     "output_type": "display_data"
    }
   ],
   "source": [
    "t = np.linspace(0, 2 * np.pi, 200)\n",
    "x = np.sin(t)\n",
    "y = np.cos(t)\n",
    "plt.plot(x, y)\n",
    "plt.grid()\n",
    "plt.show()"
   ]
  },
  {
   "cell_type": "markdown",
   "metadata": {},
   "source": [
    "## Plotting parametrised curves\n",
    "\n",
    "The way that `plt.plot` works makes it very easy to plot parametrised curves of the form $(x,y)=(f(t),g(t))$.\n",
    "\n",
    "We just need to start by constructing an array of samples of $t$ on some interval, then calculate the arrays $x=f(t)$ and $y=g(t)$, and lastly pass these to the `plt.plot()` function as per normal.\n",
    "\n",
    "For example, we can plot some very nice Lissajous curves."
   ]
  },
  {
   "cell_type": "code",
   "execution_count": 31,
   "metadata": {},
   "outputs": [
    {
     "data": {
      "image/png": "[encoded data removed]",
      "text/plain": [
       "<Figure size 432x288 with 1 Axes>"
      ]
     },
     "metadata": {
      "needs_background": "light"
     },
     "output_type": "display_data"
    }
   ],
   "source": [
    "t = np.linspace(0,2*np.pi,200)\n",
    "x = np.cos(t)\n",
    "y = np.sin(3*t)\n",
    "plt.plot(x,y)\n",
    "plt.show()"
   ]
  },
  {
   "cell_type": "markdown",
   "metadata": {},
   "source": [
    "#### Exercises\n",
    "\n",
    "We'll play around with parametrised curves a lot more in a future lab, but for now, have a go at the following.\n",
    "\n",
    " - Plot the cardioid curve described in the course notes\n",
    " - Plot some other parametrised curves, come up with some whacky $f(t),g(t)$ functions of your own!"
   ]
  },
  {
   "cell_type": "code",
   "execution_count": 50,
   "metadata": {},
   "outputs": [
    {
     "data": {
      "image/png": "[encoded data removed]",
      "text/plain": [
       "<Figure size 432x288 with 1 Axes>"
      ]
     },
     "metadata": {
      "needs_background": "light"
     },
     "output_type": "display_data"
    }
   ],
   "source": [
    "import numpy as np\n",
    "import matplotlib.pyplot as plt\n",
    "%matplotlib inline\n",
    "\n",
    "t = np.linspace(0, 2 * np.pi, 200)\n",
    "x = (1 - np.cos(t)) * np.cos(t)\n",
    "y = (1 - np.cos(t)) * np.sin(t)\n",
    "\n",
    "plt.plot(x, y)\n",
    "plt.grid()\n",
    "plt.show()"
   ]
  },
  {
   "cell_type": "code",
   "execution_count": null,
   "metadata": {},
   "outputs": [],
   "source": []
  },
  {
   "cell_type": "code",
   "execution_count": null,
   "metadata": {},
   "outputs": [],
   "source": []
  }
 ],
 "metadata": {
  "kernelspec": {
   "display_name": "Python 3",
   "language": "python",
   "name": "python3"
  },
  "language_info": {
   "codemirror_mode": {
    "name": "ipython",
    "version": 3
   },
   "file_extension": ".py",
   "mimetype": "text/x-python",
   "name": "python",
   "nbconvert_exporter": "python",
   "pygments_lexer": "ipython3",
   "version": "3.8.3"
  }
 },
 "nbformat": 4,
 "nbformat_minor": 4
}
